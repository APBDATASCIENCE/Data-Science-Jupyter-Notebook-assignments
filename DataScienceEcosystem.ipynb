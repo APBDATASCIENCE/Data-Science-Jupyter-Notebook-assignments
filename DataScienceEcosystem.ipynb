{
 "cells": [
  {
   "cell_type": "markdown",
   "id": "0b449c58-bfdb-49dc-9588-bb65318a41f5",
   "metadata": {},
   "source": [
    "# Data Science Tools and Ecosystem"
   ]
  },
  {
   "cell_type": "markdown",
   "id": "65f1a731-57cd-4506-b888-f1e30439ca56",
   "metadata": {},
   "source": [
    "In this notebook, Data Science Tools and Ecosystem are summarized"
   ]
  },
  {
   "cell_type": "markdown",
   "id": "bd44f1eb-778d-42f8-b0bc-81c42de76315",
   "metadata": {},
   "source": [
    "Some of the popular languages that Data Scientists use are:\n",
    "1. Python\n",
    "2. R\n",
    "3. SQL"
   ]
  },
  {
   "cell_type": "markdown",
   "id": "c66b36c4-df68-4a0b-b409-5e5bdcdf7f0e",
   "metadata": {},
   "source": [
    "Some of the commonly used libraries used by Data Scientists include:"
   ]
  },
  {
   "cell_type": "markdown",
   "id": "0c388281-c14a-44d5-8e47-2482d4168d8f",
   "metadata": {},
   "source": [
    "1. Pandas\n",
    "2. NumPy\n",
    "3. Metplotlib"
   ]
  },
  {
   "cell_type": "markdown",
   "id": "9e3bb373-7125-47ba-ab75-5be136e473b4",
   "metadata": {},
   "source": [
    "|Data Science tools|\n",
    "|------------------|\n",
    "|Jupyter Notebook|\n",
    "|R Studio|\n",
    "|Apache Hadoop|"
   ]
  },
  {
   "cell_type": "markdown",
   "id": "8955f1ec-9c98-4e0e-bfde-acf39f791e0e",
   "metadata": {},
   "source": [
    "### Below are a few examples of evaluating arithmetic expressions in Python."
   ]
  },
  {
   "cell_type": "code",
   "execution_count": 10,
   "id": "57678101-f102-4165-a497-588b825fe633",
   "metadata": {},
   "outputs": [
    {
     "data": {
      "text/plain": [
       "17"
      ]
     },
     "execution_count": 10,
     "metadata": {},
     "output_type": "execute_result"
    }
   ],
   "source": [
    "#This a simple arithmetic expression to mutiply then add integers.\n",
    "#a=3\n",
    "b=4\n",
    "c=5\n",
    "(a*b)+c"
   ]
  },
  {
   "cell_type": "code",
   "execution_count": 11,
   "id": "ee088567-7514-4bd7-bc0e-99853986c27b",
   "metadata": {},
   "outputs": [
    {
     "data": {
      "text/plain": [
       "3.3333333333333335"
      ]
     },
     "execution_count": 11,
     "metadata": {},
     "output_type": "execute_result"
    }
   ],
   "source": [
    "#This will convert 200 minutes to hours by diving by 60.\n",
    "minutes=200\n",
    "hour=60\n",
    "# 200 minutes to hours is\n",
    "(minutes/hour)\n"
   ]
  },
  {
   "cell_type": "markdown",
   "id": "b2302db0-6a06-4e13-a4f4-5edb436dd663",
   "metadata": {},
   "source": [
    "***Objectives:***\n",
    "* Python\n",
    "* R Studio\n",
    "* SQL\n",
    "* Pandas\n",
    "* NumPy\n",
    "* Metaplotlib"
   ]
  },
  {
   "cell_type": "markdown",
   "id": "da2bd5cf-c695-455f-88ef-9319ac866dcc",
   "metadata": {},
   "source": [
    "## Author\n",
    "Aneesh P B"
   ]
  },
  {
   "cell_type": "code",
   "execution_count": null,
   "id": "53675c39-9410-4a00-8d9e-7ccb3cb7623a",
   "metadata": {},
   "outputs": [],
   "source": []
  }
 ],
 "metadata": {
  "kernelspec": {
   "display_name": "Python 3 (ipykernel)",
   "language": "python",
   "name": "python3"
  },
  "language_info": {
   "codemirror_mode": {
    "name": "ipython",
    "version": 3
   },
   "file_extension": ".py",
   "mimetype": "text/x-python",
   "name": "python",
   "nbconvert_exporter": "python",
   "pygments_lexer": "ipython3",
   "version": "3.11.9"
  }
 },
 "nbformat": 4,
 "nbformat_minor": 5
}
